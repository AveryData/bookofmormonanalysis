{
 "cells": [
  {
   "cell_type": "code",
   "execution_count": 1,
   "id": "c7037954",
   "metadata": {},
   "outputs": [
    {
     "name": "stderr",
     "output_type": "stream",
     "text": [
      "[nltk_data] Downloading package punkt to\n",
      "[nltk_data]     C:\\Users\\avery\\AppData\\Roaming\\nltk_data...\n",
      "[nltk_data]   Package punkt is already up-to-date!\n",
      "[nltk_data] Downloading package stopwords to\n",
      "[nltk_data]     C:\\Users\\avery\\AppData\\Roaming\\nltk_data...\n",
      "[nltk_data]   Package stopwords is already up-to-date!\n"
     ]
    },
    {
     "data": {
      "text/plain": [
       "True"
      ]
     },
     "execution_count": 1,
     "metadata": {},
     "output_type": "execute_result"
    }
   ],
   "source": [
    "# Libraries\n",
    "import nltk\n",
    "nltk.download('punkt')\n",
    "nltk.download('stopwords')"
   ]
  },
  {
   "cell_type": "code",
   "execution_count": 2,
   "id": "3fb74136",
   "metadata": {},
   "outputs": [],
   "source": [
    "f = open('book_of_mormon.txt',encoding = \"ISO-8859-1\") \n",
    "raw_BOM= f.read()\n",
    "FindWordsText_BOM = nltk.word_tokenize(raw_BOM) # Seperate text into words and preprocessing\n",
    "text_BOM = nltk.Text(FindWordsText_BOM) # Spit out finished, searchable version of text"
   ]
  },
  {
   "cell_type": "code",
   "execution_count": 3,
   "id": "1c712ca9",
   "metadata": {},
   "outputs": [
    {
     "data": {
      "text/plain": [
       "313763"
      ]
     },
     "execution_count": 3,
     "metadata": {},
     "output_type": "execute_result"
    }
   ],
   "source": [
    "len(text_BOM) # words in BoM"
   ]
  },
  {
   "cell_type": "code",
   "execution_count": 4,
   "id": "fa883d80",
   "metadata": {},
   "outputs": [
    {
     "data": {
      "text/plain": [
       "384"
      ]
     },
     "execution_count": 4,
     "metadata": {},
     "output_type": "execute_result"
    }
   ],
   "source": [
    "text_BOM.count('Christ')"
   ]
  },
  {
   "cell_type": "code",
   "execution_count": 5,
   "id": "6c2a8a58",
   "metadata": {},
   "outputs": [
    {
     "name": "stdout",
     "output_type": "stream",
     "text": [
      "Displaying 25 of 386 matches:\n",
      "e Jew and Gentile that JESUS is the CHRIST , the ETERNAL GOD , manifesting him\n",
      "nd spotless at the judgment-seat of Christ . TRANSLATED BY JOSEPH SMITH , JUN \n",
      "God the Father , and our Lord Jesus Christ , have seen the plates which contai\n",
      "God the Father , and our Lord Jesus Christ , that we beheld and bear record th\n",
      " we know that if we are faithful in Christ , we shall rid our garments of the \n",
      "potless before the judgment-seat of Christ , and shall dwell with him eternall\n",
      "hey shall believe in me , that I am Christ , then have I covenanted with their\n",
      "y people the truth of the coming of Christ ; for , for this end hath the law o\n",
      "in proving unto my people that save Christ should come all men must perish . 1\n",
      "st perish . 11:7 For if there be no Christ there be no God ; and if there be n\n",
      "on . But there is a God , and he is Christ , and he cometh in the fulness of h\n",
      "ey shall be persuaded to believe in Christ , the Son of God , and the atonemen\n",
      "all come that they shall believe in Christ , and worship the Father in his nam\n",
      "el of God , his name shall be Jesus Christ , the Son of God . 25:20 And now , \n",
      " under heaven save it be this Jesus Christ , of which I have spoken , whereby \n",
      "d also our brethren , to believe in Christ , and to be reconciled to God ; for\n",
      "And , notwithstanding we believe in Christ , we keep the law of Moses , and lo\n",
      "ook forward with steadfastness unto Christ , until the law shall be fulfilled \n",
      " unto us , and we are made alive in Christ because of our faith ; yet we keep \n",
      "commandments . 25:26 And we talk of Christ , we rejoice in Christ , we preach \n",
      "d we talk of Christ , we rejoice in Christ , we preach of Christ , we prophesy\n",
      "we rejoice in Christ , we preach of Christ , we prophesy of Christ , and we wr\n",
      "e preach of Christ , we prophesy of Christ , and we write according to our pro\n",
      " forward unto that life which is in Christ , and know for what end the law was\n",
      ". And after the law is fulfilled in Christ , that they need not harden their h\n"
     ]
    }
   ],
   "source": [
    "text_BOM.concordance(\"Christ\")"
   ]
  },
  {
   "cell_type": "code",
   "execution_count": 6,
   "id": "9b2e7659",
   "metadata": {},
   "outputs": [
    {
     "name": "stdout",
     "output_type": "stream",
     "text": [
      "god them nephi men israel it him the zarahemla you man jerusalem\n",
      "darkness death all hosts earth me ammon moroni\n"
     ]
    }
   ],
   "source": [
    "text_BOM.similar(\"Christ\")"
   ]
  },
  {
   "cell_type": "code",
   "execution_count": 7,
   "id": "db37bb59",
   "metadata": {},
   "outputs": [
    {
     "name": "stdout",
     "output_type": "stream",
     "text": [
      "of_and of_who of_they of_nephi of_save of_it of_whom of_but unto_with\n",
      "of_now of_that of_for that_showed of_which\n"
     ]
    }
   ],
   "source": [
    "text_BOM.common_contexts([\"Jesus\", \"Christ\"])\n"
   ]
  },
  {
   "cell_type": "code",
   "execution_count": 8,
   "id": "f34197f4",
   "metadata": {},
   "outputs": [
    {
     "data": {
      "image/png": "[encoded data removed]",
      "text/plain": [
       "<Figure size 432x288 with 1 Axes>"
      ]
     },
     "metadata": {
      "needs_background": "light"
     },
     "output_type": "display_data"
    }
   ],
   "source": [
    "text_BOM.dispersion_plot([\"Christ\", \"repentance\", \"love\", \"peace\", \"prayer\", \"mercy\", \"God\"])\n"
   ]
  },
  {
   "cell_type": "code",
   "execution_count": 11,
   "id": "800f8841",
   "metadata": {},
   "outputs": [
    {
     "data": {
      "text/plain": [
       "[(',', 20840),\n",
       " ('the', 19290),\n",
       " ('of', 11881),\n",
       " ('and', 11831),\n",
       " ('.', 7139),\n",
       " ('that', 6855),\n",
       " ('to', 6521),\n",
       " (';', 5077),\n",
       " ('And', 4565),\n",
       " ('they', 4448),\n",
       " ('in', 3733),\n",
       " ('unto', 3641),\n",
       " ('I', 3306),\n",
       " ('he', 3147),\n",
       " ('it', 3072),\n",
       " ('their', 2800),\n",
       " ('them', 2635),\n",
       " ('be', 2517),\n",
       " ('shall', 2487),\n",
       " ('his', 2250),\n",
       " ('not', 2231),\n",
       " ('which', 2220),\n",
       " ('a', 2183),\n",
       " ('for', 2097),\n",
       " ('were', 2018)]"
      ]
     },
     "execution_count": 11,
     "metadata": {},
     "output_type": "execute_result"
    }
   ],
   "source": [
    "frequency_dist = nltk.FreqDist(text_BOM)\n",
    "frequency_dist.most_common(25)"
   ]
  },
  {
   "cell_type": "code",
   "execution_count": 10,
   "id": "f90728ab",
   "metadata": {},
   "outputs": [
    {
     "name": "stdout",
     "output_type": "stream",
     "text": [
      "said unto; say unto; Holy Ghost; thou hast; Project Gutenberg-tm;\n",
      "shall come; passed away; thou shalt; gathered together; Nephi Chapter;\n",
      "went forth; Holy One; beloved brethren; Jesus Christ; like unto; Alma\n",
      "Chapter; last day; must needs; chief judge; spake unto\n"
     ]
    }
   ],
   "source": [
    "text_BOM.collocations()"
   ]
  }
 ],
 "metadata": {
  "kernelspec": {
   "display_name": "Python 3",
   "language": "python",
   "name": "python3"
  },
  "language_info": {
   "codemirror_mode": {
    "name": "ipython",
    "version": 3
   },
   "file_extension": ".py",
   "mimetype": "text/x-python",
   "name": "python",
   "nbconvert_exporter": "python",
   "pygments_lexer": "ipython3",
   "version": "3.9.7"
  }
 },
 "nbformat": 4,
 "nbformat_minor": 5
}
